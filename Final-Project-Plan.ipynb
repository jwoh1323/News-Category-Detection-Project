{
 "cells": [
  {
   "cell_type": "markdown",
   "metadata": {},
   "source": [
    "### Final Project Game Plan\n",
    "\n",
    "Project plan overview and data sources"
   ]
  },
  {
   "cell_type": "markdown",
   "metadata": {},
   "source": [
    "### Project plan summary\n",
    "\n",
    "1. Train supervised models on two publicly available, labeled datasets.\n",
    "    - BS Detector Dataset\n",
    "    - Liar, Liar Dataset\n",
    "    \n",
    "    \n",
    "2. Scrape dataset of new news headlines and articles\n",
    "\n",
    "\n",
    "3. Explore how our models classify these new examples. Since these new examples won't be labeled, this will have to be somewhat qualitative. \n",
    "    - Can we pick up any interesting patterns in how our models are classifying these new examples?\n",
    "    - Can we scrape some news from sites we know are sketchy to see if our model keys on them?\n",
    "    \n",
    "    \n",
    "4. Discuss the challenges of fake news detection, and the limitations of our approach. "
   ]
  },
  {
   "cell_type": "markdown",
   "metadata": {},
   "source": [
    "### Data\n",
    "\n",
    "1. Liar, Liar [data](https://sites.cs.ucsb.edu/~william/software.html), [paper](https://arxiv.org/abs/1705.00648)\n",
    "    - **Citation:** Wang, William Yang. \"\" liar, liar pants on fire\": A new benchmark dataset for fake news detection.\" arXiv preprint arXiv:1705.00648 (2017).\n",
    "\n",
    "\n",
    "2. BS Detector [data](https://www.kaggle.com/mrisdal/fake-news/data)\n",
    "    - **Citation:** Risdal, Megan. \"Getting real about fake news.\" (2016)."
   ]
  },
  {
   "cell_type": "markdown",
   "metadata": {},
   "source": [
    "### Other Resources\n",
    "\n",
    "Other papers and sources of useful background information or discussion of this topic.\n",
    "\n",
    "1. **Fake News Detection on Social Media: A Data Mining Perspective** [link](https://dl.acm.org/doi/abs/10.1145/3137597.3137600)\n",
    "    - A broad ranging discussion of the challenges involved with fake news detection, and a discussion of some of the available datasets and their shortcomings.\n",
    "    - **Citation:** Shu, Kai, et al. \"Fake news detection on social media: A data mining perspective.\" ACM SIGKDD Explorations Newsletter 19.1 (2017): 22-36.\n",
    "    \n",
    "    \n",
    "2. **Big Data and quality data for fake news and misinformation detection** [link](https://journals.sagepub.com/doi/full/10.1177/2053951719843310)\n",
    "    - Discusses the issues around data collection for fake news classification.\n",
    "    - Includes ongoing project [MisInfoText](https://github.com/sfu-discourse-lab/MisInfoText) to create labeled examples (numbers available seem to still be too small for deep learning).\n",
    "    - **Citation:** Torabi Asr, Fatemeh, and Maite Taboada. \"Big Data and quality data for fake news and misinformation detection.\" Big Data & Society 6.1 (2019): 2053951719843310.\n",
    "   \n",
    "    \n",
    "3. **Truth of Varying Shades: Analyzing Language in Fake News and Political Fact-Checking** [link](https://www.aclweb.org/anthology/D17-1317.pdf)\n",
    "    - Language comparison across different types of news outlets.\n",
    "    - Collected labeled examples from PolitiFact and related sites, and did a variety of model types.\n",
    "    - **Citation:** Rashkin, Hannah, et al. \"Truth of varying shades: Analyzing language in fake news and political fact-checking.\" Proceedings of the 2017 Conference on Empirical Methods in Natural Language Processing. 2017.\n",
    "    \n",
    "    "
   ]
  }
 ],
 "metadata": {
  "kernelspec": {
   "display_name": "Python 3 (ipykernel)",
   "language": "python",
   "name": "python3"
  },
  "language_info": {
   "codemirror_mode": {
    "name": "ipython",
    "version": 3
   },
   "file_extension": ".py",
   "mimetype": "text/x-python",
   "name": "python",
   "nbconvert_exporter": "python",
   "pygments_lexer": "ipython3",
   "version": "3.11.5"
  }
 },
 "nbformat": 4,
 "nbformat_minor": 4
}
